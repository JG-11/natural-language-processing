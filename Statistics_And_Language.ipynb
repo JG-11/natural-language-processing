{
  "nbformat": 4,
  "nbformat_minor": 0,
  "metadata": {
    "colab": {
      "name": "Statistics-And-Language.ipynb",
      "provenance": []
    },
    "kernelspec": {
      "name": "python3",
      "display_name": "Python 3"
    }
  },
  "cells": [
    {
      "cell_type": "markdown",
      "metadata": {
        "id": "GErhCjytEMFG",
        "colab_type": "text"
      },
      "source": [
        "# Lexical richness\n",
        "## Type-token ratio (TTR)\n",
        "\n",
        "A type-token ratio (TTR) is the total number of UNIQUE words (types) divided by the total number of words (tokens) in a given segment of language.\n",
        "\n",
        "> Source: https://carla.umn.edu/learnerlanguage/spn/comp/activity4.html"
      ]
    },
    {
      "cell_type": "code",
      "metadata": {
        "id": "4jvHRvqGEpIQ",
        "colab_type": "code",
        "colab": {
          "base_uri": "https://localhost:8080/",
          "height": 1000
        },
        "outputId": "5e30de45-4546-4c59-f045-06d81860d27d"
      },
      "source": [
        "import nltk\n",
        "\n",
        "nltk.download('book') # dataset which contains a lot of books in English, in a tokenized format\n",
        "\n",
        "from nltk.book import *\n",
        "import matplotlib.pyplot as plt\n",
        "import numpy as np"
      ],
      "execution_count": 1,
      "outputs": [
        {
          "output_type": "stream",
          "text": [
            "[nltk_data] Downloading collection 'book'\n",
            "[nltk_data]    | \n",
            "[nltk_data]    | Downloading package abc to /root/nltk_data...\n",
            "[nltk_data]    |   Unzipping corpora/abc.zip.\n",
            "[nltk_data]    | Downloading package brown to /root/nltk_data...\n",
            "[nltk_data]    |   Unzipping corpora/brown.zip.\n",
            "[nltk_data]    | Downloading package chat80 to /root/nltk_data...\n",
            "[nltk_data]    |   Unzipping corpora/chat80.zip.\n",
            "[nltk_data]    | Downloading package cmudict to /root/nltk_data...\n",
            "[nltk_data]    |   Unzipping corpora/cmudict.zip.\n",
            "[nltk_data]    | Downloading package conll2000 to /root/nltk_data...\n",
            "[nltk_data]    |   Unzipping corpora/conll2000.zip.\n",
            "[nltk_data]    | Downloading package conll2002 to /root/nltk_data...\n",
            "[nltk_data]    |   Unzipping corpora/conll2002.zip.\n",
            "[nltk_data]    | Downloading package dependency_treebank to\n",
            "[nltk_data]    |     /root/nltk_data...\n",
            "[nltk_data]    |   Unzipping corpora/dependency_treebank.zip.\n",
            "[nltk_data]    | Downloading package genesis to /root/nltk_data...\n",
            "[nltk_data]    |   Unzipping corpora/genesis.zip.\n",
            "[nltk_data]    | Downloading package gutenberg to /root/nltk_data...\n",
            "[nltk_data]    |   Unzipping corpora/gutenberg.zip.\n",
            "[nltk_data]    | Downloading package ieer to /root/nltk_data...\n",
            "[nltk_data]    |   Unzipping corpora/ieer.zip.\n",
            "[nltk_data]    | Downloading package inaugural to /root/nltk_data...\n",
            "[nltk_data]    |   Unzipping corpora/inaugural.zip.\n",
            "[nltk_data]    | Downloading package movie_reviews to\n",
            "[nltk_data]    |     /root/nltk_data...\n",
            "[nltk_data]    |   Unzipping corpora/movie_reviews.zip.\n",
            "[nltk_data]    | Downloading package nps_chat to /root/nltk_data...\n",
            "[nltk_data]    |   Unzipping corpora/nps_chat.zip.\n",
            "[nltk_data]    | Downloading package names to /root/nltk_data...\n",
            "[nltk_data]    |   Unzipping corpora/names.zip.\n",
            "[nltk_data]    | Downloading package ppattach to /root/nltk_data...\n",
            "[nltk_data]    |   Unzipping corpora/ppattach.zip.\n",
            "[nltk_data]    | Downloading package reuters to /root/nltk_data...\n",
            "[nltk_data]    | Downloading package senseval to /root/nltk_data...\n",
            "[nltk_data]    |   Unzipping corpora/senseval.zip.\n",
            "[nltk_data]    | Downloading package state_union to /root/nltk_data...\n",
            "[nltk_data]    |   Unzipping corpora/state_union.zip.\n",
            "[nltk_data]    | Downloading package stopwords to /root/nltk_data...\n",
            "[nltk_data]    |   Unzipping corpora/stopwords.zip.\n",
            "[nltk_data]    | Downloading package swadesh to /root/nltk_data...\n",
            "[nltk_data]    |   Unzipping corpora/swadesh.zip.\n",
            "[nltk_data]    | Downloading package timit to /root/nltk_data...\n",
            "[nltk_data]    |   Unzipping corpora/timit.zip.\n",
            "[nltk_data]    | Downloading package treebank to /root/nltk_data...\n",
            "[nltk_data]    |   Unzipping corpora/treebank.zip.\n",
            "[nltk_data]    | Downloading package toolbox to /root/nltk_data...\n",
            "[nltk_data]    |   Unzipping corpora/toolbox.zip.\n",
            "[nltk_data]    | Downloading package udhr to /root/nltk_data...\n",
            "[nltk_data]    |   Unzipping corpora/udhr.zip.\n",
            "[nltk_data]    | Downloading package udhr2 to /root/nltk_data...\n",
            "[nltk_data]    |   Unzipping corpora/udhr2.zip.\n",
            "[nltk_data]    | Downloading package unicode_samples to\n",
            "[nltk_data]    |     /root/nltk_data...\n",
            "[nltk_data]    |   Unzipping corpora/unicode_samples.zip.\n",
            "[nltk_data]    | Downloading package webtext to /root/nltk_data...\n",
            "[nltk_data]    |   Unzipping corpora/webtext.zip.\n",
            "[nltk_data]    | Downloading package wordnet to /root/nltk_data...\n",
            "[nltk_data]    |   Unzipping corpora/wordnet.zip.\n",
            "[nltk_data]    | Downloading package wordnet_ic to /root/nltk_data...\n",
            "[nltk_data]    |   Unzipping corpora/wordnet_ic.zip.\n",
            "[nltk_data]    | Downloading package words to /root/nltk_data...\n",
            "[nltk_data]    |   Unzipping corpora/words.zip.\n",
            "[nltk_data]    | Downloading package maxent_treebank_pos_tagger to\n",
            "[nltk_data]    |     /root/nltk_data...\n",
            "[nltk_data]    |   Unzipping taggers/maxent_treebank_pos_tagger.zip.\n",
            "[nltk_data]    | Downloading package maxent_ne_chunker to\n",
            "[nltk_data]    |     /root/nltk_data...\n",
            "[nltk_data]    |   Unzipping chunkers/maxent_ne_chunker.zip.\n",
            "[nltk_data]    | Downloading package universal_tagset to\n",
            "[nltk_data]    |     /root/nltk_data...\n",
            "[nltk_data]    |   Unzipping taggers/universal_tagset.zip.\n",
            "[nltk_data]    | Downloading package punkt to /root/nltk_data...\n",
            "[nltk_data]    |   Unzipping tokenizers/punkt.zip.\n",
            "[nltk_data]    | Downloading package book_grammars to\n",
            "[nltk_data]    |     /root/nltk_data...\n",
            "[nltk_data]    |   Unzipping grammars/book_grammars.zip.\n",
            "[nltk_data]    | Downloading package city_database to\n",
            "[nltk_data]    |     /root/nltk_data...\n",
            "[nltk_data]    |   Unzipping corpora/city_database.zip.\n",
            "[nltk_data]    | Downloading package tagsets to /root/nltk_data...\n",
            "[nltk_data]    |   Unzipping help/tagsets.zip.\n",
            "[nltk_data]    | Downloading package panlex_swadesh to\n",
            "[nltk_data]    |     /root/nltk_data...\n",
            "[nltk_data]    | Downloading package averaged_perceptron_tagger to\n",
            "[nltk_data]    |     /root/nltk_data...\n",
            "[nltk_data]    |   Unzipping taggers/averaged_perceptron_tagger.zip.\n",
            "[nltk_data]    | \n",
            "[nltk_data]  Done downloading collection book\n",
            "*** Introductory Examples for the NLTK Book ***\n",
            "Loading text1, ..., text9 and sent1, ..., sent9\n",
            "Type the name of the text or sentence to view it.\n",
            "Type: 'texts()' or 'sents()' to list the materials.\n",
            "text1: Moby Dick by Herman Melville 1851\n",
            "text2: Sense and Sensibility by Jane Austen 1811\n",
            "text3: The Book of Genesis\n",
            "text4: Inaugural Address Corpus\n",
            "text5: Chat Corpus\n",
            "text6: Monty Python and the Holy Grail\n",
            "text7: Wall Street Journal\n",
            "text8: Personals Corpus\n",
            "text9: The Man Who Was Thursday by G . K . Chesterton 1908\n"
          ],
          "name": "stdout"
        }
      ]
    },
    {
      "cell_type": "code",
      "metadata": {
        "id": "ozTkA7BqE8zf",
        "colab_type": "code",
        "colab": {
          "base_uri": "https://localhost:8080/",
          "height": 34
        },
        "outputId": "a0578b58-aae2-430e-e521-1f4c31f4d0ec"
      },
      "source": [
        "text1"
      ],
      "execution_count": 2,
      "outputs": [
        {
          "output_type": "execute_result",
          "data": {
            "text/plain": [
              "<Text: Moby Dick by Herman Melville 1851>"
            ]
          },
          "metadata": {
            "tags": []
          },
          "execution_count": 2
        }
      ]
    },
    {
      "cell_type": "code",
      "metadata": {
        "id": "sKip4qT4FLX8",
        "colab_type": "code",
        "colab": {
          "base_uri": "https://localhost:8080/",
          "height": 187
        },
        "outputId": "93e2afa8-b864-4d1e-a047-947ea2baa236"
      },
      "source": [
        "text1.tokens[:10]"
      ],
      "execution_count": 3,
      "outputs": [
        {
          "output_type": "execute_result",
          "data": {
            "text/plain": [
              "['[',\n",
              " 'Moby',\n",
              " 'Dick',\n",
              " 'by',\n",
              " 'Herman',\n",
              " 'Melville',\n",
              " '1851',\n",
              " ']',\n",
              " 'ETYMOLOGY',\n",
              " '.']"
            ]
          },
          "metadata": {
            "tags": []
          },
          "execution_count": 3
        }
      ]
    },
    {
      "cell_type": "code",
      "metadata": {
        "id": "stmkEcGxFPaj",
        "colab_type": "code",
        "colab": {
          "base_uri": "https://localhost:8080/",
          "height": 34
        },
        "outputId": "fef8bad3-a691-465a-d006-231eb6676cfb"
      },
      "source": [
        "print(len(text1))"
      ],
      "execution_count": 4,
      "outputs": [
        {
          "output_type": "stream",
          "text": [
            "260819\n"
          ],
          "name": "stdout"
        }
      ]
    },
    {
      "cell_type": "code",
      "metadata": {
        "id": "lLbzbNWcFTPQ",
        "colab_type": "code",
        "colab": {
          "base_uri": "https://localhost:8080/",
          "height": 54
        },
        "outputId": "41726e0c-042f-4d4a-da89-b3522708dc21"
      },
      "source": [
        "# Vocabulary: unique words\n",
        "vocabulary = set(text1)\n",
        "print(sorted(vocabulary)[1000:1050])"
      ],
      "execution_count": 9,
      "outputs": [
        {
          "output_type": "stream",
          "text": [
            "['Crew', 'Crish', 'Crockett', 'Cross', 'Crossed', 'Crossing', 'Crotch', 'Crowding', 'Crown', 'Crozetts', 'Cruelty', 'Cruising', 'Cruppered', 'Crusaders', 'Crushed', 'Crying', 'Cuba', 'Curious', 'Curse', 'Cursed', 'Curses', 'Cussed', 'Customs', 'Cut', 'Cutter', 'Cutting', 'Cuvier', 'Cyclades', 'Czar', 'D', 'DAGGOO', 'DAM', 'DANCE', 'DANCING', 'DANIEL', 'DANISH', 'DARKENS', 'DARWIN', 'DAVENANT', 'DEAD', 'DEATH', 'DEBELL', 'DECK', 'DEL', 'DESTROYED', 'DEVIL', 'DICTIONARY', 'DID', 'DIGNITY', 'DISCOVERS']\n"
          ],
          "name": "stdout"
        }
      ]
    },
    {
      "cell_type": "code",
      "metadata": {
        "id": "Lh8xX4d9FiZT",
        "colab_type": "code",
        "colab": {
          "base_uri": "https://localhost:8080/",
          "height": 34
        },
        "outputId": "e63ee371-160a-4a75-f7cf-e4686ea16e2d"
      },
      "source": [
        "# TTR calculus\n",
        "def ttr(text):\n",
        "  vocabulary = set(text)\n",
        "\n",
        "  return len(vocabulary) / len(text)\n",
        "\n",
        "print(ttr(text1))"
      ],
      "execution_count": 26,
      "outputs": [
        {
          "output_type": "stream",
          "text": [
            "0.07406285585022564\n"
          ],
          "name": "stdout"
        }
      ]
    },
    {
      "cell_type": "code",
      "metadata": {
        "id": "K3K0mbCtF_wN",
        "colab_type": "code",
        "colab": {
          "base_uri": "https://localhost:8080/",
          "height": 51
        },
        "outputId": "c645fbc9-165e-4c39-e100-4f1f58d63dec"
      },
      "source": [
        "# Percentage of the occurrence of a word in the tokenized text\n",
        "def word_percentage(word, text):\n",
        "  res = text.count(word) / len(text)\n",
        "\n",
        "  return res * 100\n",
        "\n",
        "print(text1.count('monster'))\n",
        "print(word_percentage('monster', text1))"
      ],
      "execution_count": 12,
      "outputs": [
        {
          "output_type": "stream",
          "text": [
            "49\n",
            "0.018786974875296663\n"
          ],
          "name": "stdout"
        }
      ]
    },
    {
      "cell_type": "code",
      "metadata": {
        "id": "nstBhz5hGjPA",
        "colab_type": "code",
        "colab": {
          "base_uri": "https://localhost:8080/",
          "height": 357
        },
        "outputId": "3fa94a2d-31e9-47e5-dfc0-532368b7e0ec"
      },
      "source": [
        "# Frequency Distribution\n",
        "\n",
        "freq_dist = FreqDist(text1)\n",
        "freq_dist.most_common(20)"
      ],
      "execution_count": 25,
      "outputs": [
        {
          "output_type": "execute_result",
          "data": {
            "text/plain": [
              "[(',', 18713),\n",
              " ('the', 13721),\n",
              " ('.', 6862),\n",
              " ('of', 6536),\n",
              " ('and', 6024),\n",
              " ('a', 4569),\n",
              " ('to', 4542),\n",
              " (';', 4072),\n",
              " ('in', 3916),\n",
              " ('that', 2982),\n",
              " (\"'\", 2684),\n",
              " ('-', 2552),\n",
              " ('his', 2459),\n",
              " ('it', 2209),\n",
              " ('I', 2124),\n",
              " ('s', 1739),\n",
              " ('is', 1695),\n",
              " ('he', 1661),\n",
              " ('with', 1659),\n",
              " ('was', 1632)]"
            ]
          },
          "metadata": {
            "tags": []
          },
          "execution_count": 25
        }
      ]
    },
    {
      "cell_type": "code",
      "metadata": {
        "id": "YE4M86wIJQNz",
        "colab_type": "code",
        "colab": {
          "base_uri": "https://localhost:8080/",
          "height": 291
        },
        "outputId": "0788f0b1-726c-4c22-d320-d73900bce509"
      },
      "source": [
        "freq_dist.plot(20) # internally using Matplotlib"
      ],
      "execution_count": 19,
      "outputs": [
        {
          "output_type": "display_data",
          "data": {
            "image/png": "[encoded data removed]",
            "text/plain": [
              "<Figure size 432x288 with 1 Axes>"
            ]
          },
          "metadata": {
            "tags": [],
            "needs_background": "light"
          }
        }
      ]
    },
    {
      "cell_type": "code",
      "metadata": {
        "id": "2alh3HMNJgSr",
        "colab_type": "code",
        "colab": {
          "base_uri": "https://localhost:8080/",
          "height": 34
        },
        "outputId": "eb561c87-ded0-4235-d38b-95cbad8f6e06"
      },
      "source": [
        "freq_dist['monster']"
      ],
      "execution_count": 23,
      "outputs": [
        {
          "output_type": "execute_result",
          "data": {
            "text/plain": [
              "49"
            ]
          },
          "metadata": {
            "tags": []
          },
          "execution_count": 23
        }
      ]
    },
    {
      "cell_type": "markdown",
      "metadata": {
        "id": "IsctgHRJg1Cs",
        "colab_type": "text"
      },
      "source": [
        "# Stop words and pre-processing\n",
        "\n",
        "The process of converting data to something a computer can understand is referred to as **pre-processing**. One of the major forms of pre-processing is to filter out useless data. In natural language processing, useless words (data) that do not contribute to any future operations, are referred to as **stop words**.\n",
        "\n",
        "A stop word is a commonly used word (such as “the”, “a”, “an”, “in”) that a search engine has been programmed to ignore, both when indexing entries for searching and when retrieving them as the result of a search query.\n",
        "\n",
        "> Source: https://www.geeksforgeeks.org/removing-stop-words-nltk-python/"
      ]
    },
    {
      "cell_type": "code",
      "metadata": {
        "id": "uhhzGGprQTam",
        "colab_type": "code",
        "colab": {
          "base_uri": "https://localhost:8080/",
          "height": 884
        },
        "outputId": "b269557a-ec9f-4f27-dc3e-780f24fd4b7b"
      },
      "source": [
        "from nltk.corpus import stopwords\n",
        "\n",
        "stop_words = set(stopwords.words('english'))\n",
        "vocabulary = [w for w in text1 if w.lower() not in stop_words and len(w) > 2]\n",
        "filtered_vocabulary = sorted(set(vocabulary))\n",
        "print(len(filtered_vocabulary))\n",
        "filtered_vocabulary[1000:1050]"
      ],
      "execution_count": 68,
      "outputs": [
        {
          "output_type": "stream",
          "text": [
            "18742\n"
          ],
          "name": "stdout"
        },
        {
          "output_type": "execute_result",
          "data": {
            "text/plain": [
              "['EXCHANGE',\n",
              " 'EXCHANGING',\n",
              " 'EXTENDING',\n",
              " 'EXTRACTS',\n",
              " 'EYES',\n",
              " 'EZEKIEL',\n",
              " 'Eagle',\n",
              " 'Earl',\n",
              " 'Earls',\n",
              " 'Earthsman',\n",
              " 'East',\n",
              " 'Eastern',\n",
              " 'Easy',\n",
              " 'Ebony',\n",
              " 'Ecclesiastes',\n",
              " 'Eckerman',\n",
              " 'Eddystone',\n",
              " 'Edgewise',\n",
              " 'Edmund',\n",
              " 'Edward',\n",
              " 'Ego',\n",
              " 'Egypt',\n",
              " 'Egyptian',\n",
              " 'Egyptians',\n",
              " 'Ehrenbreitstein',\n",
              " 'Eight',\n",
              " 'Either',\n",
              " 'Elbe',\n",
              " 'Electors',\n",
              " 'Elephant',\n",
              " 'Elephanta',\n",
              " 'Elephants',\n",
              " 'Elijah',\n",
              " 'Ellenborough',\n",
              " 'Elsewhere',\n",
              " 'Emblazonings',\n",
              " 'Emboldened',\n",
              " 'Emir',\n",
              " 'Emperor',\n",
              " 'Emperors',\n",
              " 'Empire',\n",
              " 'End',\n",
              " 'Enderbies',\n",
              " 'Enderby',\n",
              " 'Enderbys',\n",
              " 'England',\n",
              " 'Englander',\n",
              " 'English',\n",
              " 'Englishman',\n",
              " 'Englishmen']"
            ]
          },
          "metadata": {
            "tags": []
          },
          "execution_count": 68
        }
      ]
    },
    {
      "cell_type": "code",
      "metadata": {
        "id": "cGWK6WEVRbF-",
        "colab_type": "code",
        "colab": {
          "base_uri": "https://localhost:8080/",
          "height": 1000
        },
        "outputId": "b6f4a7b4-78c9-4fbc-c9f8-b3042b4a50b2"
      },
      "source": [
        "interesting_words = [(word, freq_dist[word]) for word in filtered_vocabulary if freq_dist[word] > 50]\n",
        "dtypes = [('word', 'U10'), ('frequency', int)]\n",
        "interesting_words = np.array(interesting_words, dtypes)\n",
        "interesting_words = np.sort(interesting_words, order='frequency')\n",
        "interesting_words"
      ],
      "execution_count": 69,
      "outputs": [
        {
          "output_type": "execute_result",
          "data": {
            "text/plain": [
              "array([('Look',  51), ('Right',  51), ('devil',  51), ('less',  51),\n",
              "       ('run',  51), ('thousand',  51), ('bottom',  52), ('call',  52),\n",
              "       ('comes',  52), ('forth',  52), ('turning',  52), ('watch',  52),\n",
              "       ('aloft',  53), ('began',  53), ('curious',  53), ('fellow',  53),\n",
              "       ('Tashtego',  54), ('close',  54), ('craft',  54),\n",
              "       ('fishery',  54), ('goes',  54), ('ivory',  54), ('savage',  54),\n",
              "       ('second',  54), ('turn',  54), ('vessel',  54), ('entire',  55),\n",
              "       ('find',  55), ('harpooneer',  55), ('Well',  56), ('broad',  56),\n",
              "       ('chase',  56), ('feel',  56), ('home',  56), ('peculiar',  56),\n",
              "       ('therefore',  56), ('Indian',  57), ('fine',  57), ('lower',  57),\n",
              "       ('room',  57), ('rope',  57), ('dark',  58), ('gone',  58),\n",
              "       ('jaw',  58), ('spout',  58), ('blood',  59), ('short',  59),\n",
              "       ('better',  60), ('hear',  60), ('live',  60), ('mouth',  60),\n",
              "       ('best',  62), ('work',  62), ('since',  63), (';--',  64),\n",
              "       ('Leviathan',  64), ('looked',  64), ('order',  64),\n",
              "       ('reason',  64), ('together',  64), ('general',  65), ('ere',  66),\n",
              "       ('keep',  66), ('turned',  66), ('business',  67), ('lay',  67),\n",
              "       ('left',  67), ('wind',  67), ('Pip',  68), ('aye',  68),\n",
              "       ('looking',  68), ('morning',  68), ('often',  68),\n",
              "       ('rather',  68), ('top',  68), ('cannot',  69), ('case',  69),\n",
              "       ('deep',  69), ('name',  69), ('near',  69), ('waters',  69),\n",
              "       ('point',  70), ('death',  71), ('give',  71), ('ocean',  71),\n",
              "       ('whalemen',  71), ('put',  72), ('board',  73), ('living',  73),\n",
              "       ('standing',  73), ('true',  73), ('vast',  73), ('?--',  74),\n",
              "       ('Peleg',  74), ('beneath',  74), ('done',  74), ('enough',  74),\n",
              "       ('four',  74), ('set',  74), ('least',  75), ('mate',  75),\n",
              "       ('open',  75), ('Bildad',  76), ('bed',  76), ('fire',  76),\n",
              "       ('harpoon',  76), ('whether',  76), ('word',  76), ('young',  76),\n",
              "       ('harpooneer',  77), ('instant',  77), ('large',  77),\n",
              "       ('light',  77), ('land',  78), ('length',  78), ('tail',  78),\n",
              "       ('within',  78), ('cabin',  79), ('hard',  79), ('mind',  79),\n",
              "       ('always',  80), ('days',  80), ('however',  80), ('known',  80),\n",
              "       ('present',  80), ('seas',  80), ('sometimes',  81),\n",
              "       ('indeed',  82), ('perhaps',  82), ('wild',  82), ('black',  83),\n",
              "       ('going',  83), ('soul',  83), ('stand',  83), ('Dick',  84),\n",
              "       ('Jonah',  84), ('Moby',  84), ('seems',  84), ('shall',  84),\n",
              "       ('Nantucket',  85), ('heads',  85), ('iron',  85), ('seem',  85),\n",
              "       (',--',  86), ('leg',  86), ('matter',  86), ('whose',  86),\n",
              "       ('Aye',  87), ('certain',  87), ('ships',  87), ('also',  88),\n",
              "       ('arm',  88), ('eye',  88), ('White',  89), ('hold',  89),\n",
              "       ('stood',  89), ('dead',  90), ('heart',  90), ('oil',  90),\n",
              "       ('get',  92), ('voyage',  93), ('face',  94), ('years',  94),\n",
              "       ('--\"',  95), ('sail',  96), ('strange',  96), ('right',  97),\n",
              "       ('went',  97), ('end',  99), ('high', 100), ('nothing', 102),\n",
              "       ('sun', 102), ('Flask', 104), ('sperm', 104), ('moment', 105),\n",
              "       ('sight', 105), ('thy', 105), ('another', 106), ('poor', 106),\n",
              "       ('thus', 107), ('towards', 107), ('make', 109), ('along', 110),\n",
              "       ('body', 110), ('heard', 110), ('think', 111), ('times', 111),\n",
              "       ('captain', 112), ('soon', 113), ('found', 115), ('saw', 115),\n",
              "       ('called', 116), ('place', 116), ('whaling', 116), ('take', 118),\n",
              "       ('something', 119), ('let', 120), ('full', 121), ('till', 121),\n",
              "       ('tell', 122), ('hands', 123), ('mast', 124), ('feet', 125),\n",
              "       ('small', 125), ('thee', 129), ('came', 130), ('God', 132),\n",
              "       ('things', 132), ('fish', 133), ('Sperm', 135), ('half', 135),\n",
              "       ('whole', 136), ('crew', 139), ('!--', 141), ('air', 141),\n",
              "       ('line', 141), ('sir', 143), ('boats', 145), ('night', 147),\n",
              "       ('part', 149), ('thought', 149), ('CHAPTER', 150), ('come', 150),\n",
              "       ('back', 151), ('know', 151), ('sort', 152), ('look', 154),\n",
              "       ('without', 154), ('cried', 155), ('eyes', 155), ('among', 158),\n",
              "       ('far', 161), ('many', 161), ('seen', 161), ('life', 162),\n",
              "       ('Pequod', 172), ('day', 172), ('world', 173), ('well', 174),\n",
              "       ('away', 175), ('made', 178), ('even', 181), ('might', 183),\n",
              "       ('water', 185), ('almost', 186), ('thing', 188), ('deck', 189),\n",
              "       ('white', 191), ('good', 192), ('never', 195), ('Starbuck', 196),\n",
              "       ('ever', 203), ('hand', 205), ('side', 208), ('first', 210),\n",
              "       ('Captain', 215), ('could', 215), ('much', 218), ('every', 222),\n",
              "       ('may', 230), ('thou', 232), ('men', 236), ('say', 237),\n",
              "       ('three', 237), ('whales', 237), ('round', 242), ('little', 247),\n",
              "       ('Queequeg', 252), ('see', 253), ('Stubb', 255), ('way', 269),\n",
              "       ('last', 277), ('Whale', 282), ('must', 282), ('seemed', 283),\n",
              "       ('two', 285), ('great', 293), ('still', 299), ('yet', 300),\n",
              "       ('said', 302), ('long', 318), ('time', 324), ('boat', 330),\n",
              "       ('head', 335), ('though', 335), ('would', 421), ('sea', 433),\n",
              "       ('old', 436), ('Ahab', 501), ('ship', 507), ('man', 508),\n",
              "       ('upon', 538), ('like', 624), ('one', 889), ('whale', 906)],\n",
              "      dtype=[('word', '<U10'), ('frequency', '<i8')])"
            ]
          },
          "metadata": {
            "tags": []
          },
          "execution_count": 69
        }
      ]
    },
    {
      "cell_type": "code",
      "metadata": {
        "id": "u_w34VX_Tcfk",
        "colab_type": "code",
        "colab": {
          "base_uri": "https://localhost:8080/",
          "height": 345
        },
        "outputId": "71f2b6db-37dd-4d1b-d520-f2c7f9084ed7"
      },
      "source": [
        "# Using Matplotlib\n",
        "top_words = 20\n",
        "# x = np.arange(len(interesting_words[-top_words:]))\n",
        "x = np.arange(top_words)\n",
        "y = [freq[1] for freq in interesting_words[-top_words:]]\n",
        "# x = interesting_words[-top_words:]['word']\n",
        "# y = interesting_words[-top_words:]['frequency']\n",
        "\n",
        "plt.figure(figsize=(10, 5))\n",
        "plt.plot(x, y)\n",
        "# plt.xticks(x, [freq[0] for freq in interesting_words[-top_words:]], rotation='vertical')\n",
        "plt.xticks(x, interesting_words[-top_words:]['word'], rotation='vertical')\n",
        "plt.grid(True)\n",
        "plt.show()"
      ],
      "execution_count": 70,
      "outputs": [
        {
          "output_type": "display_data",
          "data": {
            "image/png": "[encoded data removed]",
            "text/plain": [
              "<Figure size 720x360 with 1 Axes>"
            ]
          },
          "metadata": {
            "tags": [],
            "needs_background": "light"
          }
        }
      ]
    }
  ]
}