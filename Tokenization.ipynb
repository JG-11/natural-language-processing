{
  "nbformat": 4,
  "nbformat_minor": 0,
  "metadata": {
    "colab": {
      "name": "Tokenization.ipynb",
      "provenance": []
    },
    "kernelspec": {
      "name": "python3",
      "display_name": "Python 3"
    }
  },
  "cells": [
    {
      "cell_type": "markdown",
      "metadata": {
        "id": "2UKPrw-x5EOM",
        "colab_type": "text"
      },
      "source": [
        "# Text normalization\n",
        "## **Tokenization**\n",
        "\n",
        "Given a character sequence and a defined document unit, tokenization is the task of chopping it up into pieces, called tokens, perhaps at the same time throwing away certain characters, such as punctuation.\n",
        "\n",
        "> Source: https://nlp.stanford.edu/IR-book/html/htmledition/tokenization-1.html"
      ]
    },
    {
      "cell_type": "code",
      "metadata": {
        "id": "jdp-T0Ns3HlK",
        "colab_type": "code",
        "colab": {
          "base_uri": "https://localhost:8080/",
          "height": 68
        },
        "outputId": "9029280f-82de-45c4-9df1-82e2ab33dd5c"
      },
      "source": [
        "print('This is a \\n test')\n",
        "print(r'This is a \\n test') # raw text"
      ],
      "execution_count": 1,
      "outputs": [
        {
          "output_type": "stream",
          "text": [
            "This is a \n",
            " test\n",
            "This is a \\n test\n"
          ],
          "name": "stdout"
        }
      ]
    },
    {
      "cell_type": "code",
      "metadata": {
        "id": "_MMXLZnA3ZjJ",
        "colab_type": "code",
        "colab": {}
      },
      "source": [
        "text = \"\"\"  Cuando sea el rey del mundo (imaginaba él en su cabeza) no tendré que  preocuparme por estas bobadas. \n",
        "            Era solo un niño de 7 años, pero pensaba que podría ser cualquier cosa que su imaginación le permitiera \n",
        "            visualizar en su cabeza ... \"\"\" "
      ],
      "execution_count": 23,
      "outputs": []
    },
    {
      "cell_type": "code",
      "metadata": {
        "id": "vyYQd1ii34sQ",
        "colab_type": "code",
        "colab": {
          "base_uri": "https://localhost:8080/",
          "height": 54
        },
        "outputId": "8ab4c473-8b9f-4be1-bc22-32450cf5e9be"
      },
      "source": [
        "# Case 1: tokenize by empty spaces\n",
        "print(re.split(r' ', text))"
      ],
      "execution_count": 30,
      "outputs": [
        {
          "output_type": "stream",
          "text": [
            "['', '', 'Cuando', 'sea', 'el', 'rey', 'del', 'mundo', '(imaginaba', 'él', 'en', 'su', 'cabeza)', 'no', 'tendré', 'que', '', 'preocuparme', 'por', 'estas', 'bobadas.', '\\n', '', '', '', '', '', '', '', '', '', '', '', 'Era', 'solo', 'un', 'niño', 'de', '7', 'años,', 'pero', 'pensaba', 'que', 'podría', 'ser', 'cualquier', 'cosa', 'que', 'su', 'imaginación', 'le', 'permitiera', '\\n', '', '', '', '', '', '', '', '', '', '', '', 'visualizar', 'en', 'su', 'cabeza', '...', '']\n"
          ],
          "name": "stdout"
        }
      ]
    },
    {
      "cell_type": "code",
      "metadata": {
        "id": "eAsddTdC4A4A",
        "colab_type": "code",
        "colab": {
          "base_uri": "https://localhost:8080/",
          "height": 71
        },
        "outputId": "c7ec1e11-393d-4dbc-a224-6e1712d7c97e"
      },
      "source": [
        "# Case 2: tokenize by using regular expressions (regex)\n",
        "print(re.split(r'[ \\t\\n]+', text)) # instead of using this range, we can use the metacharacter \\s, as follows\n",
        "print(re.split(r'[\\s]+', text))"
      ],
      "execution_count": 31,
      "outputs": [
        {
          "output_type": "stream",
          "text": [
            "['', 'Cuando', 'sea', 'el', 'rey', 'del', 'mundo', '(imaginaba', 'él', 'en', 'su', 'cabeza)', 'no', 'tendré', 'que', 'preocuparme', 'por', 'estas', 'bobadas.', 'Era', 'solo', 'un', 'niño', 'de', '7', 'años,', 'pero', 'pensaba', 'que', 'podría', 'ser', 'cualquier', 'cosa', 'que', 'su', 'imaginación', 'le', 'permitiera', 'visualizar', 'en', 'su', 'cabeza', '...', '']\n",
            "['', 'Cuando', 'sea', 'el', 'rey', 'del', 'mundo', '(imaginaba', 'él', 'en', 'su', 'cabeza)', 'no', 'tendré', 'que', 'preocuparme', 'por', 'estas', 'bobadas.', 'Era', 'solo', 'un', 'niño', 'de', '7', 'años,', 'pero', 'pensaba', 'que', 'podría', 'ser', 'cualquier', 'cosa', 'que', 'su', 'imaginación', 'le', 'permitiera', 'visualizar', 'en', 'su', 'cabeza', '...', '']\n"
          ],
          "name": "stdout"
        }
      ]
    },
    {
      "cell_type": "code",
      "metadata": {
        "id": "oqHHdcUk4fGr",
        "colab_type": "code",
        "colab": {
          "base_uri": "https://localhost:8080/",
          "height": 54
        },
        "outputId": "14ac5e87-fe1d-4963-dd99-857b29b7f0a9"
      },
      "source": [
        "# Case 3: we add the metacharacter \\W, which matches with anything that is not a word (e.g. parentheses)\n",
        "print(re.split(r'[ \\W\\t\\n]+', text))"
      ],
      "execution_count": 32,
      "outputs": [
        {
          "output_type": "stream",
          "text": [
            "['', 'Cuando', 'sea', 'el', 'rey', 'del', 'mundo', 'imaginaba', 'él', 'en', 'su', 'cabeza', 'no', 'tendré', 'que', 'preocuparme', 'por', 'estas', 'bobadas', 'Era', 'solo', 'un', 'niño', 'de', '7', 'años', 'pero', 'pensaba', 'que', 'podría', 'ser', 'cualquier', 'cosa', 'que', 'su', 'imaginación', 'le', 'permitiera', 'visualizar', 'en', 'su', 'cabeza', '']\n"
          ],
          "name": "stdout"
        }
      ]
    },
    {
      "cell_type": "code",
      "metadata": {
        "id": "Ih84wHjQ5NuY",
        "colab_type": "code",
        "colab": {
          "base_uri": "https://localhost:8080/",
          "height": 34
        },
        "outputId": "5d1fab52-2472-41af-b97f-80e456bf3310"
      },
      "source": [
        "import nltk\n",
        "\n",
        "text = 'In the U.S.A. this postcard costs $15.50 USD ...'\n",
        "\n",
        "# a more sophisticated regex\n",
        "pattern = r'''(?x)                  # set flag to allow verbose regexps\n",
        "              (?:[A-Z]\\.)+          # abbreviations, e.g. U.S.A.\n",
        "              | \\w+(?:-\\w+)*        # words with optional internal hyphens\n",
        "              | \\$?\\d+(?:\\.\\d+)?%?  # currency and percentages, e.g. $15.50, 82%\n",
        "              | \\.\\.\\.              # ellipsis\n",
        "              | [][.,;\"'?():-_`]    # these are separate tokens; includes ], [\n",
        "          '''\n",
        "nltk.regexp_tokenize(text, pattern)"
      ],
      "execution_count": 33,
      "outputs": [
        {
          "output_type": "execute_result",
          "data": {
            "text/plain": [
              "['In', 'the', 'U.S.A.', 'this', 'postcard', 'costs', '$15.50', 'USD', '...']"
            ]
          },
          "metadata": {
            "tags": []
          },
          "execution_count": 33
        }
      ]
    }
  ]
}